{
 "cells": [
  {
   "cell_type": "code",
   "execution_count": 23,
   "metadata": {},
   "outputs": [],
   "source": [
    "import numpy as np\n",
    "import pandas as pd\n",
    "from sklearn.metrics import root_mean_squared_error\n",
    "from ase.io import read\n",
    "from matplotlib import pyplot as plt\n",
    "\n",
    "from shiftml.ase import ShiftML\n",
    "import urllib.request\n",
    "\n",
    "\n",
    "def extract_from_array(array, num_atoms, list_atom):\n",
    "    \"\"\"\n",
    "    Function to extract regression array from a given\n",
    "    symbol list of atoms and data exported from the model\n",
    "    \"\"\"\n",
    "    num_molecules = int(len(array) / num_atoms)\n",
    "    data_fit = array.reshape((-1, num_molecules))[:, 0]\n",
    "    X = []\n",
    "    for atom_string in list_atom:\n",
    "        label_list = atom_string.split(\",\")\n",
    "        if len(label_list) == 1:\n",
    "            label = int(label_list[0])\n",
    "            X.append(data_fit[label - 1])\n",
    "        else:\n",
    "            X.append(\n",
    "                sum([data_fit[int(label_str) - 1] for label_str in label_list])\n",
    "                / len(label_list)\n",
    "            )\n",
    "    return np.array(X)\n",
    "\n",
    "\n",
    "def structure_prediction(\n",
    "    model_version, frames, list_atom, list_cs, GIPAW_avail=True, cs_sym=\"CS\"\n",
    "):\n",
    "    \"\"\"\n",
    "    Function to select the suitable structures\n",
    "    based on a set of candidate structures,\n",
    "    given rmse of the linear regression results\n",
    "\n",
    "    Parameters\n",
    "    ----------\n",
    "    model_version : str\n",
    "        The version of the ShiftML model to use. Supported versions are\n",
    "        \"ShiftML1.0\", \"ShiftML1.1\", and \"ShiftML2.0\".\n",
    "    frames : List[ase.Atoms]\n",
    "        A list of candidate structures.\n",
    "    list_atom : np.array(List[str])\n",
    "        An array of atom symbols included in the structure.\n",
    "    list_cs: np.array(List[float])\n",
    "        An array of chemical shielding values corresponding to the atom symbols.\n",
    "    \"\"\"\n",
    "    calculator = ShiftML(model_version)\n",
    "    number_list = list_atom[-1].split(\",\")\n",
    "    num_atoms = float(number_list[-1])\n",
    "    rmse_rec1 = np.array([])\n",
    "    rmse_rec2 = np.array([])\n",
    "\n",
    "    for frame in frames:\n",
    "        Y = list_cs\n",
    "        atom_label = frame.get_atomic_numbers() == 1\n",
    "        array = calculator.get_cs_iso(frame).ravel()[atom_label]\n",
    "        X = extract_from_array(array, num_atoms, list_atom)\n",
    "        slope = -1\n",
    "        intercept = np.mean(Y) - slope * np.mean(X)\n",
    "        rmse = root_mean_squared_error(slope * X + intercept, Y)\n",
    "        rmse_rec1 = np.append(rmse_rec1, rmse)\n",
    "        if GIPAW_avail:\n",
    "            array = frame[atom_label].arrays[cs_sym].ravel()\n",
    "            X = extract_from_array(array, num_atoms, list_atom)\n",
    "            slope = -1\n",
    "            intercept = np.mean(Y) - slope * np.mean(X)\n",
    "            rmse = root_mean_squared_error(slope * X + intercept, Y)\n",
    "            rmse_rec2 = np.append(rmse_rec2, rmse)\n",
    "            rmse_rec = (rmse_rec1, rmse_rec2)\n",
    "        else:\n",
    "            rmse_rec = rmse_rec1\n",
    "\n",
    "    return rmse_rec\n"
   ]
  },
  {
   "cell_type": "code",
   "execution_count": 24,
   "metadata": {},
   "outputs": [],
   "source": [
    "# atoms list defines groups of atoms to average over\n",
    "\n",
    "list_atom = ['1', '2', '3', '4', '5', '6', '7', '8', '9', '10',\n",
    "            '11,12,13', '14', '15', '16', '17', '18', '19,20,21']\n",
    "\n",
    "list_cs =  np.array([3.76, 3.78, 5.63, 3.32, 3.49, 3.06, 2.91, 3.38, 2.56, 2.12, 1.04, 8.01, 8.01,\n",
    " 8.01, 8.01, 8.01, 3.78])"
   ]
  },
  {
   "cell_type": "code",
   "execution_count": 25,
   "metadata": {},
   "outputs": [],
   "source": [
    "urllib.request.urlretrieve(\"https://static-content.springer.com/esm/art%3A10.1038%2Fs41467-018-06972-x/MediaObjects/41467_2018_6972_MOESM8_ESM.zip\", \"cocaine.zip\")\n",
    "import zipfile\n",
    "with zipfile.ZipFile(\"cocaine.zip\",\"r\") as zip_ref:\n",
    "    zip_ref.extractall(\".\")\n",
    "\n",
    "frames = read(\"./Supplementary_Dataset_6/cocaine_QuantumEspresso.xyz\", \":\")"
   ]
  },
  {
   "cell_type": "code",
   "execution_count": 26,
   "metadata": {},
   "outputs": [
    {
     "name": "stderr",
     "output_type": "stream",
     "text": [
      "2024-07-30 13:26:15,484 - INFO - rascaline version: 0.1.0.dev558\n",
      "2024-07-30 13:26:15,485 - INFO - rascaline-torch is installed, importing rascaline-torch\n",
      "2024-07-30 13:26:15,485 - INFO - Found model version in url_resolve\n",
      "2024-07-30 13:26:15,486 - INFO - Resolving model version to model files at url: https://tinyurl.com/f237evr3\n",
      "2024-07-30 13:26:15,486 - INFO - Found ShiftML1.1  in cache,                         and importing it from here: /Users/zhangyuxuan/Library/Caches/shiftml/ShiftML1.1\n"
     ]
    },
    {
     "data": {
      "image/png": "[encoded data removed]",
      "text/plain": [
       "<Figure size 640x480 with 1 Axes>"
      ]
     },
     "metadata": {},
     "output_type": "display_data"
    }
   ],
   "source": [
    "rmse1, rmse2 = structure_prediction(\"ShiftML1.1\", frames, list_atom, list_cs)\n",
    "sequence = np.array(range(len(rmse1)))\n",
    "plt.stem(sequence, rmse2, 'b', label='GIPAW')\n",
    "plt.stem(sequence, rmse1, 'tab:orange', label=\"ShiftML\")\n",
    "plt.fill_between(sequence, 0.33+0.16, 0.33-0.16, alpha=0.3)\n",
    "plt.legend()\n",
    "plt.show()"
   ]
  },
  {
   "cell_type": "code",
   "execution_count": 27,
   "metadata": {},
   "outputs": [],
   "source": [
    "# atoms list defines groups of atoms to average over\n",
    "\n",
    "list_atom = ['1', '2', '3', '4', '5', '6', '7', '8', '9', '10,11',\n",
    "            '12', '13', '14', '15', '16,17', '18,19', '20', '21,22', '23,24,25,26,27,28,29,30,31']\n",
    "\n",
    "list_cs =  np.array([6.92, 8.69, 9.01, 8.47, 15.37, 7.73, 9.64, 2.90, 1.78, 1.88, \n",
    "                     1.8, 1.6, 0.44, 1.54, 1.88, 0.8, 1, 1.74, 0.73])"
   ]
  },
  {
   "cell_type": "code",
   "execution_count": 30,
   "metadata": {},
   "outputs": [],
   "source": [
    "urllib.request.urlretrieve(\"https://static-content.springer.com/esm/art%3A10.1038%2Fs41467-018-06972-x/MediaObjects/41467_2018_6972_MOESM6_ESM.zip\", \"AZD.zip\")\n",
    "\n",
    "import zipfile\n",
    "with zipfile.ZipFile(\"AZD.zip\",\"r\") as zip_ref:\n",
    "    zip_ref.extractall(\".\")\n",
    "\n",
    "frames = read(\"./Supplementary_Dataset_4/AZD_QuantumEspresso.xyz\", \":\")"
   ]
  },
  {
   "cell_type": "code",
   "execution_count": 31,
   "metadata": {},
   "outputs": [
    {
     "name": "stderr",
     "output_type": "stream",
     "text": [
      "2024-07-30 13:34:45,537 - INFO - rascaline version: 0.1.0.dev558\n",
      "2024-07-30 13:34:45,539 - INFO - rascaline-torch is installed, importing rascaline-torch\n",
      "2024-07-30 13:34:45,539 - INFO - Found model version in url_resolve\n",
      "2024-07-30 13:34:45,540 - INFO - Resolving model version to model files at url: https://tinyurl.com/f237evr3\n",
      "2024-07-30 13:34:45,542 - INFO - Found ShiftML1.1  in cache,                         and importing it from here: /Users/zhangyuxuan/Library/Caches/shiftml/ShiftML1.1\n"
     ]
    },
    {
     "data": {
      "image/png": "[encoded data removed]",
      "text/plain": [
       "<Figure size 640x480 with 1 Axes>"
      ]
     },
     "metadata": {},
     "output_type": "display_data"
    }
   ],
   "source": [
    "rmse1, rmse2 = structure_prediction(\"ShiftML1.1\", frames, list_atom, list_cs)\n",
    "sequence = np.array(range(len(rmse1)))\n",
    "plt.stem(sequence, rmse2, 'b', label='GIPAW')\n",
    "plt.stem(sequence, rmse1, 'tab:orange', label=\"ShiftML\")\n",
    "plt.fill_between(sequence, 0.33+0.16, 0.33-0.16, alpha=0.3)\n",
    "plt.legend()\n",
    "plt.show()"
   ]
  }
 ],
 "metadata": {
  "kernelspec": {
   "display_name": "DevShiftML",
   "language": "python",
   "name": "python3"
  },
  "language_info": {
   "codemirror_mode": {
    "name": "ipython",
    "version": 3
   },
   "file_extension": ".py",
   "mimetype": "text/x-python",
   "name": "python",
   "nbconvert_exporter": "python",
   "pygments_lexer": "ipython3",
   "version": "3.10.14"
  }
 },
 "nbformat": 4,
 "nbformat_minor": 2
}
